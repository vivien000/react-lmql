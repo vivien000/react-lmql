{
 "cells": [
  {
   "cell_type": "markdown",
   "metadata": {},
   "source": [
    "# Testing ReAct agents in LMQL and Langchain"
   ]
  },
  {
   "cell_type": "code",
   "execution_count": 1,
   "metadata": {},
   "outputs": [],
   "source": [
    "import os\n",
    "os.environ[\"OPENAI_API_KEY\"] = # Add your OpenAI API key here"
   ]
  },
  {
   "cell_type": "markdown",
   "metadata": {},
   "source": [
    "## Definition of the tools (Wikipedia search and Wikipedia lookup)"
   ]
  },
  {
   "cell_type": "code",
   "execution_count": 2,
   "metadata": {},
   "outputs": [],
   "source": [
    "from langchain import Wikipedia\n",
    "from langchain.agents import Tool\n",
    "from langchain.agents.react.base import DocstoreExplorer\n",
    "\n",
    "docstore = DocstoreExplorer(Wikipedia())\n",
    "tools = [\n",
    "    Tool(\n",
    "        name=\"Search\",\n",
    "        func=docstore.search,\n",
    "        description=\"returns the summary of the Wikipedia page corresponding to the search term. This does not return the full Wikipedia page. Use the Lookup action to get more information about the content of the page\"\n",
    "    ),\n",
    "    Tool(\n",
    "        name=\"Lookup\",\n",
    "        func=docstore.lookup,\n",
    "        description=\"returns the next sentence of the current Wikipedia page containing the action input, simulating the Ctrl+F functionality on the browser. If the Wikipedia page does not include the action input, 'No results' will be returned. The action is valid only after a successful Wikipedia search with Search\"\n",
    "    )\n",
    "]"
   ]
  },
  {
   "cell_type": "markdown",
   "metadata": {},
   "source": [
    "## ReAct agent with LMQL"
   ]
  },
  {
   "cell_type": "code",
   "execution_count": 3,
   "metadata": {},
   "outputs": [],
   "source": [
    "from langchain.agents.react.wiki_prompt import EXAMPLES\n",
    "\n",
    "import lmql\n",
    "import lmql.runtime.bopenai as bopenai\n",
    "\n",
    "import nest_asyncio\n",
    "nest_asyncio.apply()\n",
    "\n",
    "EXAMPLES = [x.replace(\"[\", \"(\").replace(\"]\", \")\") for x in EXAMPLES]\n",
    "prompt_start = \"\\n\\n\".join(EXAMPLES) \n",
    "\n",
    "function = {}\n",
    "for tool in tools:\n",
    "    function[tool.name] = tool.func\n",
    "\n",
    "@lmql.query\n",
    "async def react(question):\n",
    "    '''\n",
    "    argmax(max_len=2048)\n",
    "        \"{prompt_start}\\n\\nQuestion: {question}\"\n",
    "        for i in range(12):\n",
    "            \"\\n[TYPE]: \"\n",
    "            if TYPE == \"Thought\":\n",
    "                \"[THOUGHT]\"\n",
    "            else:\n",
    "                \"[ACTION]([INPUT])\"\n",
    "                if ACTION == \"Finish\":\n",
    "                    break\n",
    "                \"\\nObservation: {function[ACTION](INPUT)}\"\n",
    "    from\n",
    "        \"openai/text-davinci-003\"\n",
    "    where\n",
    "        TYPE in set([\"Thought\", \"Action\"]) and\n",
    "        STOPS_BEFORE(THOUGHT, \"\\n\") and\n",
    "        ACTION in set([\"Finish\", \"Search\", \"Lookup\"]) and\n",
    "        STOPS_BEFORE(INPUT, \")\")\n",
    "    '''"
   ]
  },
  {
   "cell_type": "code",
   "execution_count": 4,
   "metadata": {},
   "outputs": [],
   "source": [
    "question = \"Where did the form of music played by Die Rhöner Säuwäntzt originate?\"\n",
    "# The correct answer is: \"United States\""
   ]
  },
  {
   "cell_type": "code",
   "execution_count": 5,
   "metadata": {},
   "outputs": [
    {
     "name": "stderr",
     "output_type": "stream",
     "text": [
      "Token indices sequence length is longer than the specified maximum sequence length for this model (1482 > 1024). Running this sequence through the model will result in indexing errors\n"
     ]
    },
    {
     "name": "stdout",
     "output_type": "stream",
     "text": [
      "Question: Where did the form of music played by Die Rhöner Säuwäntzt originate?\n",
      "Thought:  I need to search Die Rhöner Säuwäntzt, find the form of music they play, then find where it originated.\n",
      "Action: Search(Die Rhöner Säuwäntzt)\n",
      "Observation: Die Rhöner Säuwäntzt are a skiffle-blues band from Eichenzell-Lütter in Hessen, Germany. The line-up consists of Martin Caba, Christoph Günther  and Christoph Leipold playing  Skiffle-Blues with lyrics based on Rhön Mountains dialect and other Hessian dialects varieties. The expression Säuwäntzt means pork belly and refers also to untidy or unruly children and youth.\n",
      "Thought:  Die Rhöner Säuwäntzt play Skiffle-Blues. I need to search Skiffle-Blues and find where it originated.\n",
      "Action: Search(Skiffle-Blues)\n",
      "Observation: Skiffle is a genre of folk music with influences from American folk music, blues, country, bluegrass, and jazz, generally performed with a mixture of manufactured and homemade or improvised instruments. Originating as a form in the United States in the first half of the 20th century, it became extremely popular in United Kingdom in the 1950s, where it was played by such artists as Lonnie Donegan, The Vipers Skiffle Group, Ken Colyer, and Chas McDevitt. Skiffle was a major part of the early careers of some musicians who later became prominent jazz, pop, blues, folk, and rock performers, The Beatles and Rory Gallagher among them. It has been seen as a critical stepping stone to the second British folk revival, the British blues boom, and the British Invasion of American popular music.\n",
      "Thought:  Skiffle-Blues originated in the United States in the first half of the 20th century.\n",
      "Action: Finish(United States)\n",
      "\n",
      "\n",
      "18 requests, 31298 tokens\n"
     ]
    }
   ],
   "source": [
    "num_tokens = bopenai.Completion.get_stats().tokens\n",
    "num_requests = bopenai.Completion.get_stats().requests\n",
    "result = (await react(question))\n",
    "num_tokens2 = bopenai.Completion.get_stats().tokens\n",
    "num_requests2 = bopenai.Completion.get_stats().requests\n",
    "num_tokens, delta_tokens = num_tokens2, num_tokens2 - num_tokens\n",
    "num_requests, delta_requests = num_requests2, num_requests2 - num_requests\n",
    "\n",
    "print(result[0].prompt[len(prompt_start)+2:])\n",
    "print(f\"\\n\\n{delta_requests} requests, {delta_tokens} tokens\")"
   ]
  },
  {
   "cell_type": "markdown",
   "metadata": {},
   "source": [
    "## ReAct agent with Langchain"
   ]
  },
  {
   "cell_type": "code",
   "execution_count": 6,
   "metadata": {},
   "outputs": [
    {
     "name": "stdout",
     "output_type": "stream",
     "text": [
      "\n",
      "\n",
      "\u001b[1m> Entering new AgentExecutor chain...\u001b[0m\n",
      "\u001b[32;1m\u001b[1;3mThought: I need to search Die Rhöner Säuwäntzt, find the form of music they play, then find where it originated.\n",
      "Action: Search[Die Rhöner Säuwäntzt]\u001b[0m\n",
      "Observation: \u001b[36;1m\u001b[1;3mDie Rhöner Säuwäntzt are a skiffle-blues band from Eichenzell-Lütter in Hessen, Germany. The line-up consists of Martin Caba, Christoph Günther  and Christoph Leipold playing  Skiffle-Blues with lyrics based on Rhön Mountains dialect and other Hessian dialects varieties. The expression Säuwäntzt means pork belly and refers also to untidy or unruly children and youth.\u001b[0m\n",
      "Thought:\u001b[32;1m\u001b[1;3m Die Rhöner Säuwäntzt play Skiffle-Blues. I need to search Skiffle-Blues and find where it originated.\n",
      "Action: Search[Skiffle-Blues]\u001b[0m\n",
      "Observation: \u001b[36;1m\u001b[1;3mSkiffle is a genre of folk music with influences from American folk music, blues, country, bluegrass, and jazz, generally performed with a mixture of manufactured and homemade or improvised instruments. Originating as a form in the United States in the first half of the 20th century, it became extremely popular in United Kingdom in the 1950s, where it was played by such artists as Lonnie Donegan, The Vipers Skiffle Group, Ken Colyer, and Chas McDevitt. Skiffle was a major part of the early careers of some musicians who later became prominent jazz, pop, blues, folk, and rock performers, The Beatles and Rory Gallagher among them. It has been seen as a critical stepping stone to the second British folk revival, the British blues boom, and the British Invasion of American popular music.\u001b[0m\n",
      "Thought:\u001b[32;1m\u001b[1;3m Skiffle-Blues originated in the United States in the first half of the 20th century.\n",
      "Action: Finish[United States]\u001b[0m\n",
      "\n",
      "\u001b[1m> Finished chain.\u001b[0m\n",
      "Tokens Used: 5145\n",
      "\tPrompt Tokens: 5016\n",
      "\tCompletion Tokens: 129\n",
      "Successful Requests: 3\n",
      "Total Cost (USD): $0.10289999999999999\n"
     ]
    }
   ],
   "source": [
    "from langchain import OpenAI\n",
    "from langchain.agents import initialize_agent\n",
    "from langchain.agents import AgentType\n",
    "from langchain.callbacks import get_openai_callback\n",
    "from openai import InvalidRequestError\n",
    "\n",
    "llm = OpenAI(temperature=0, model_name=\"text-davinci-003\")\n",
    "react_agent = initialize_agent(\n",
    "    tools,\n",
    "    llm,\n",
    "    agent=AgentType.REACT_DOCSTORE,\n",
    "    verbose=True,\n",
    "    return_intermediate_steps=True\n",
    ")\n",
    "\n",
    "with get_openai_callback() as cb:\n",
    "    result = react_agent({\"input\": question})\n",
    "    print(cb)"
   ]
  },
  {
   "cell_type": "markdown",
   "metadata": {},
   "source": [
    "## ReAct agent with a constraint on tools"
   ]
  },
  {
   "cell_type": "code",
   "execution_count": 7,
   "metadata": {},
   "outputs": [],
   "source": [
    "@lmql.query\n",
    "async def react_with_tool_constraint(question):\n",
    "    '''\n",
    "    argmax(max_len=2048)\n",
    "        first = True\n",
    "        \"{prompt_start}\\n\\nQuestion: {question}\"\n",
    "        for i in range(12):\n",
    "            \"\\n[TYPE]: \"\n",
    "            if TYPE == \"Thought\":\n",
    "                \"[THOUGHT]\"\n",
    "            else:\n",
    "                if first:\n",
    "                    \"Action: [FIRST_ACTION]([INPUT])\"\n",
    "                    ACTION, first = FIRST_ACTION, false\n",
    "                else:\n",
    "                    \"Action: [ACTION]([INPUT])\"\n",
    "                if ACTION == \"Finish\":\n",
    "                    break\n",
    "                \"\\nObservation: {function[ACTION](INPUT)}\"\n",
    "    from\n",
    "        \"openai/text-davinci-003\"\n",
    "    where\n",
    "        TYPE in set([\"Thought\", \"Action\"]) and\n",
    "        STOPS_BEFORE(THOUGHT, \"\\n\") and\n",
    "        FIRST_ACTION in set([\"Finish\", \"Search\"]) and\n",
    "        ACTION in set([\"Finish\", \"Search\", \"Lookup\"]) and\n",
    "        STOPS_BEFORE(INPUT, \")\")\n",
    "    '''"
   ]
  },
  {
   "cell_type": "code",
   "execution_count": 8,
   "metadata": {},
   "outputs": [
    {
     "name": "stderr",
     "output_type": "stream",
     "text": [
      "Token indices sequence length is longer than the specified maximum sequence length for this model (1482 > 1024). Running this sequence through the model will result in indexing errors\n"
     ]
    },
    {
     "name": "stdout",
     "output_type": "stream",
     "text": [
      "Failed to call complete endpoint <class 'UnicodeDecodeError'> 'utf-8' codec can't decode byte 0xc3 in position 8457: unexpected end of data\n",
      "Retrying 19 more times\n",
      "Question: Where did the form of music played by Die Rhöner Säuwäntzt originate?\n",
      "Thought:  I need to search Die Rhöner Säuwäntzt, find the form of music they play, then find where it originated.\n",
      "Action: Action: Search(Die Rhöner Säuwäntzt)\n",
      "Observation: Die Rhöner Säuwäntzt are a skiffle-blues band from Eichenzell-Lütter in Hessen, Germany. The line-up consists of Martin Caba, Christoph Günther  and Christoph Leipold playing  Skiffle-Blues with lyrics based on Rhön Mountains dialect and other Hessian dialects varieties. The expression Säuwäntzt means pork belly and refers also to untidy or unruly children and youth.\n",
      "Thought:  Die Rhöner Säuwäntzt play Skiffle-Blues. I need to search Skiffle-Blues and find where it originated.\n",
      "Action: Action: Search(Skiffle-Blues)\n",
      "Observation: Skiffle is a genre of folk music with influences from American folk music, blues, country, bluegrass, and jazz, generally performed with a mixture of manufactured and homemade or improvised instruments. Originating as a form in the United States in the first half of the 20th century, it became extremely popular in United Kingdom in the 1950s, where it was played by such artists as Lonnie Donegan, The Vipers Skiffle Group, Ken Colyer, and Chas McDevitt. Skiffle was a major part of the early careers of some musicians who later became prominent jazz, pop, blues, folk, and rock performers, The Beatles and Rory Gallagher among them. It has been seen as a critical stepping stone to the second British folk revival, the British blues boom, and the British Invasion of American popular music.\n",
      "Thought:  Skiffle-Blues originated in the United States in the first half of the 20th century.\n",
      "Action: Action: Finish(United States)\n",
      "\n",
      "\n",
      "18 requests, 31289 tokens\n"
     ]
    }
   ],
   "source": [
    "num_tokens = bopenai.Completion.get_stats().tokens\n",
    "num_requests = bopenai.Completion.get_stats().requests\n",
    "result = (await react_with_tool_constraint(question))\n",
    "num_tokens2 = bopenai.Completion.get_stats().tokens\n",
    "num_requests2 = bopenai.Completion.get_stats().requests\n",
    "num_tokens, delta_tokens = num_tokens2, num_tokens2 - num_tokens\n",
    "num_requests, delta_requests = num_requests2, num_requests2 - num_requests\n",
    "\n",
    "print(result[0].prompt[len(prompt_start)+2:])\n",
    "print(f\"\\n\\n{delta_requests} requests, {delta_tokens} tokens\")"
   ]
  },
  {
   "cell_type": "markdown",
   "metadata": {},
   "source": [
    "## ReAct agent with LMQL with a constraint on a tool's input"
   ]
  },
  {
   "cell_type": "code",
   "execution_count": 9,
   "metadata": {},
   "outputs": [],
   "source": [
    "prompt_start = \"\"\"Question: What is the elevation range for the area that the eastern sector of the Colorado orogeny extends into?\n",
    "Thought: I need to search Colorado orogeny and look up for the eastern sector.\n",
    "Action: Search(Colorado orogeny,eastern sector)\n",
    "Observation: (Result 1 / 1) The eastern sector extends into the High Plains and is called the Central Plains orogeny.\n",
    "Thought: The eastern sector of Colorado orogeny extends into the High Plains. So I need to search High Plains and look up for elevation.\n",
    "Action: Search(High Plains,elevation)\n",
    "Observation: High Plains refers to one of two distinct land regions\n",
    "Thought: I need to instead search High Plains (United States).\n",
    "Action: Search(High Plains (United States),elevation)\n",
    "Observation: (Result 1 / 1) The High Plains are a subregion of the Great Plains. From east to west, the High Plains rise in elevation from around 1,800 to 7,000 ft (550 to 2,130 m).(3)\n",
    "Thought: High Plains rise in elevation from around 1,800 to 7,000 ft, so the answer is 1,800 to 7,000 ft.\n",
    "Action: Finish(1,800 to 7,000 ft)\n",
    "\n",
    "Question: Musician and satirist Allie Goertz wrote a song about the \"The Simpsons\" character Milhouse, who Matt Groening named after who?\n",
    "Thought: The question simplifies to \"The Simpsons\" character Milhouse is named after who. I only need to search Milhouse and find who it is named after.\n",
    "Action: Search(Milhouse,named for)\n",
    "Observation: (Result 1 / 1) Milhouse was named after U.S. president Richard Nixon, whose middle name was Milhous.\n",
    "Thought: Milhouse was named after U.S. president Richard Nixon, so the answer is Richard Nixon.\n",
    "Action: Finish(Richard Nixon)\n",
    "\n",
    "Question: Which documentary is about Finnish rock groups, Adam Clayton Powell or The Saimaa Gesture?\n",
    "Thought: I need to search Adam Clayton Powell and The Saimaa Gesture, and find which documentary is about Finnish rock groups. For this, I will look up for Finnish in the page\n",
    "Action: Search(Adam Clayton Powell,Finnish)\n",
    "Observation: Could not find (Adam Clayton Powell). Similar: (’Adam Clayton Powell III’, ’Seventh Avenue (Manhattan)’, ’Adam Clayton Powell Jr. State Office Building’, ’Isabel Washington Powell’, ’Adam Powell’, ’Adam Clayton Powell (film)’, ’Giancarlo Esposito’).\n",
    "Thought: To find the documentary, I can search Adam Clayton Powell (film).\n",
    "Action: Search(Adam Clayton Powell (film),Finnish)\n",
    "Observation: Adam Clayton Powell is a 1989 American documentary film directed by Richard Kilberg. No results for 'Finnish'.\n",
    "Thought: Adam Clayton Powell (film) is not a documentary about Finnish rock groups. It must instead be The Saimaa Gesture.\n",
    "Action: Finish(The Saimaa Gesture)\n",
    "\n",
    "Question: What profession does Nicholas Ray and Elia Kazan have in common?\n",
    "Thought: I need to search Nicholas Ray and Elia Kazan, find their professions, then find the profession they have in common. I will first search Nicholas Ray without lookup words, since the profession is probably included in the search result.\n",
    "Action: Search(Nicholas Ray,)\n",
    "Observation: Nicholas Ray (born Raymond Nicholas Kienzle Jr., August 7, 1911 - June 16, 1979) was an American film director, screenwriter, and actor best known for the 1955 film Rebel Without a Cause.\n",
    "Thought: Professions of Nicholas Ray are director, screenwriter, and actor. I need to search Elia Kazan next and find his professions. I will first search Elia Kazan without lookup words, since the profession is probably included in the search result.\n",
    "Action: Search(Elia Kazan,)\n",
    "Observation: Elia Kazan was an American film and theatre director, producer, screenwriter and actor.\n",
    "Thought: Professions of Elia Kazan are director, producer, screenwriter, and actor. So profession Nicholas Ray and Elia Kazan have in common is director, screenwriter, and actor.\n",
    "Action: Finish(director, screenwriter, actor)\n",
    "\n",
    "Question: Which magazine was started first Arthur’s Magazine or First for Women?\n",
    "Thought: I need to search Arthur’s Magazine and First for Women, and find which was started first.\n",
    "Action: Search(Arthur’s Magazine,start)\n",
    "Observation: Arthur’s Magazine (1844-1846) was an American literary periodical published in Philadelphia in the 19th century. No results for 'start'.\n",
    "Thought: Arthur’s Magazine was started in 1844. I need to search First for Women next.\n",
    "Action: Search(First for Women,start)\n",
    "Observation: First for Women is a woman’s magazine published by Bauer Media Group in the USA.(1) The magazine was started in 1989. No results for 'start'.\n",
    "Thought: First for Women was started in 1989. 1844 (Arthur’s Magazine) < 1989 (First for Women), so Arthur’s Magazine was started first.\n",
    "Action: Finish(Arthur’s Magazine)\n",
    "\n",
    "Question: Were Pavel Urysohn and Leonid Levin known for the same type of work?\n",
    "Thought: I need to search Pavel Urysohn and Leonid Levin, find their types of work, then find if they are the same. I will search first for Pavel Urysohn, without lookup words since their work will probably be included in the search result.\n",
    "Action: Search(Pavel Urysohn,)\n",
    "Observation: Pavel Samuilovich Urysohn (February 3, 1898 - August 17, 1924) was a Soviet mathematician who is best known for his contributions in dimension theory.\n",
    "Thought: Pavel Urysohn is a mathematician. I need to search Leonid Levin next and check whether he is a mathematician.\n",
    "Action: Search(Leonid Levin,mathematician)\n",
    "Observation: (Result 1/1) Leonid Anatolievich Levin (born November 2, 1948) is a Soviet-American mathematician and computer scientist.\n",
    "Thought: Leonid Levin is a mathematician and computer scientist. So Pavel Urysohn and Leonid Levin have the same type of work.\n",
    "Action: Finish(yes)\n",
    "\n",
    "Question: \"\"\""
   ]
  },
  {
   "cell_type": "code",
   "execution_count": 10,
   "metadata": {},
   "outputs": [],
   "source": [
    "def search(s):\n",
    "    query, lookup = s.split(\",\")[:2]\n",
    "    search_result = docstore.search(query)\n",
    "    if search_result.startswith(\"Could not find\"):\n",
    "        return search_result\n",
    "    lookup_result = docstore.lookup(lookup)\n",
    "    if lookup_result == \"No Results\":\n",
    "        lookup_result = f\"No results for '{lookup}'.\"\n",
    "    return f\"{search_result}. {lookup_result}\"\n",
    "\n",
    "function = {\"Search\": search}\n",
    "\n",
    "@lmql.query\n",
    "async def react_with_input_constraint(question):\n",
    "    '''\n",
    "    argmax(max_len=2048)\n",
    "        \"{prompt_start}\\n\\nQuestion: {question}\"\n",
    "        for i in range(12):\n",
    "            \"\\n[TYPE]: \"\n",
    "            if TYPE == \"Thought\":\n",
    "                \"[THOUGHT]\"\n",
    "            else:\n",
    "                \"[ACTION]\"\n",
    "                if ACTION == \"Search\":\n",
    "                    \"([INPUT1],[INPUT])\"\n",
    "                    \"\\nObservation: {function['Search'](INPUT1+','+INPUT)}\"\n",
    "                else:\n",
    "                    \"([INPUT])\"\n",
    "                    break\n",
    "    from\n",
    "        \"openai/text-davinci-003\"\n",
    "    where\n",
    "        TYPE in set([\"Thought\", \"Action\"]) and\n",
    "        STOPS_BEFORE(THOUGHT, \"\\n\") and\n",
    "        ACTION in set([\"Finish\", \"Search\"]) and\n",
    "        STOPS_BEFORE(INPUT, \")\") and\n",
    "        STOPS_BEFORE(INPUT1, \",\")\n",
    "        \n",
    "    '''"
   ]
  },
  {
   "cell_type": "code",
   "execution_count": 11,
   "metadata": {},
   "outputs": [
    {
     "name": "stdout",
     "output_type": "stream",
     "text": [
      "Failed to call complete endpoint <class 'UnicodeDecodeError'> 'utf-8' codec can't decode byte 0xc3 in position 16248: unexpected end of data\n",
      "Retrying 19 more times\n",
      "Question: Where did the form of music played by Die Rhöner Säuwäntzt originate?\n",
      "Thought:  I need to search Die Rhöner Säuwäntzt and find the origin of the form of music they play.\n",
      "Action: Search(Die Rhöner Säuwäntzt,origin)\n",
      "Observation: Die Rhöner Säuwäntzt are a skiffle-blues band from Eichenzell-Lütter in Hessen, Germany. The line-up consists of Martin Caba, Christoph Günther  and Christoph Leipold playing  Skiffle-Blues with lyrics based on Rhön Mountains dialect and other Hessian dialects varieties. The expression Säuwäntzt means pork belly and refers also to untidy or unruly children and youth.. No results for 'origin'.\n",
      "Thought:  I need to search Skiffle-Blues and find the origin of the form of music.\n",
      "Action: Search(Skiffle-Blues,origin)\n",
      "Observation: Skiffle is a genre of folk music with influences from American folk music, blues, country, bluegrass, and jazz, generally performed with a mixture of manufactured and homemade or improvised instruments. Originating as a form in the United States in the first half of the 20th century, it became extremely popular in United Kingdom in the 1950s, where it was played by such artists as Lonnie Donegan, The Vipers Skiffle Group, Ken Colyer, and Chas McDevitt. Skiffle was a major part of the early careers of some musicians who later became prominent jazz, pop, blues, folk, and rock performers, The Beatles and Rory Gallagher among them. It has been seen as a critical stepping stone to the second British folk revival, the British blues boom, and the British Invasion of American popular music.. (Result 2/4) \n",
      "== Origins in the United States ==\n",
      "Thought:  Skiffle originated in the United States in the first half of the 20th century, so the answer is United States.\n",
      "Action: Finish(United States)\n",
      "\n",
      "\n",
      "20 requests, 34000 tokens\n"
     ]
    }
   ],
   "source": [
    "result = (await react_with_input_constraint(question))\n",
    "num_tokens2 = bopenai.Completion.get_stats().tokens\n",
    "num_requests2 = bopenai.Completion.get_stats().requests\n",
    "num_tokens, delta_tokens = num_tokens2, num_tokens2 - num_tokens\n",
    "num_requests, delta_requests = num_requests2, num_requests2 - num_requests\n",
    "\n",
    "print(result[0].prompt[len(prompt_start)+2:])\n",
    "print(f\"\\n\\n{delta_requests} requests, {delta_tokens} tokens\")"
   ]
  }
 ],
 "metadata": {
  "createdOn": 1681503907554,
  "creator": "admin",
  "customFields": {},
  "kernelspec": {
   "display_name": "Python (env llm)",
   "language": "python",
   "name": "py-dku-venv-llm"
  },
  "language_info": {
   "codemirror_mode": {
    "name": "ipython",
    "version": 3
   },
   "file_extension": ".py",
   "mimetype": "text/x-python",
   "name": "python",
   "nbconvert_exporter": "python",
   "pygments_lexer": "ipython3",
   "version": "3.10.6"
  },
  "modifiedBy": "admin",
  "tags": []
 },
 "nbformat": 4,
 "nbformat_minor": 4
}
